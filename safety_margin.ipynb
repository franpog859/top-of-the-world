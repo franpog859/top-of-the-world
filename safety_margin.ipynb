{
 "cells": [
  {
   "cell_type": "code",
   "execution_count": 1,
   "metadata": {},
   "outputs": [],
   "source": [
    "import math  "
   ]
  },
  {
   "cell_type": "markdown",
   "metadata": {},
   "source": [
    "# Map's safety margin calculation\n",
    "\n",
    "Maps of just the parts of the world have sharp edges. Therefore the edges probably will be marked as the tops. There should be some kind of margin on which the script will not mark any top"
   ],
   "execution_count": null,
   "outputs": []
  },
  {
   "cell_type": "code",
   "execution_count": 2,
   "metadata": {},
   "outputs": [],
   "source": [
    "HIMALAYAS_HEIGHT = 8848\n",
    "MAX_EARTH_RADIUS = 6378000\n",
    "MIN_EARTH_RADIUS = 6356000\n",
    "DEEPEST_DEPRESSION_ON_EARTH = 418"
   ]
  },
  {
   "cell_type": "code",
   "execution_count": 3,
   "metadata": {},
   "outputs": [
    {
     "output_type": "execute_result",
     "data": {
      "text/plain": "631193.1688318561"
     },
     "metadata": {},
     "execution_count": 3
    }
   ],
   "source": [
    "# Pythagorean theorem\n",
    "highest_point_to_its_horison = math.sqrt(\n",
    "    (MAX_EARTH_RADIUS+HIMALAYAS_HEIGHT)**2 - (MIN_EARTH_RADIUS-DEEPEST_DEPRESSION_ON_EARTH)**2)\n",
    "highest_point_to_its_horison"
   ]
  },
  {
   "cell_type": "markdown",
   "metadata": {},
   "source": [
    "This is actually worse than the worst case scenario. We are playing safe right now. Ok, 630 kilometers is quite much just for the safety margin. Let's see what we can do with it!"
   ],
   "execution_count": null,
   "outputs": []
  },
  {
   "cell_type": "markdown",
   "metadata": {},
   "source": [
    "Let's assume that Earth is an ellipse\n",
    "Then it's equation is `(x / (MAX_EARTH_RADIUS - DEEPEST_DEPRESSION_ON_EARTH)**2 + (y / MIN_EARTH_RADIUS - DEEPEST_DEPRESSION_ON_EARTH)**2 = 1`. Radiuses are reduced to simulate the worse case.\n",
    "Let's find a tangent containing the point `P(MAX_EARTH_RADIUS + HIMALAYAS_HEIGHT, 0)`\n",
    "The P is actually a peak of Himalayas if they are placed on equator. That's because we still want to be on the safe side!\n",
    "\n",
    "```\n",
    "tangent containing P equation: y = a * x + b\n",
    "the point: P(MAX_EARTH_RADIUS + HIMALAYAS_HEIGHT, 0)\n",
    "0 = (MAX_EARTH_RADIUS + HIMALAYAS_HEIGHT) * a + b\n",
    "b = - (MAX_EARTH_RADIUS + HIMALAYAS_HEIGHT) * a\n",
    "y = a * x - (MAX_EARTH_RADIUS + HIMALAYAS_HEIGHT) * a\n",
    "```\n",
    "\n",
    "Let's solve the equations!\n",
    "```\n",
    "(x / MAX_EARTH_RADIUS - DEEPEST_DEPRESSION_ON_EARTH)**2 + (y / MIN_EARTH_RADIUS - DEEPEST_DEPRESSION_ON_EARTH)**2 = 1\n",
    "y = a * x - (MAX_EARTH_RADIUS + HIMALAYAS_HEIGHT) * a\n",
    "\n",
    "(x / MAX_EARTH_RADIUS)**2 + ((a * x - (MAX_EARTH_RADIUS + HIMALAYAS_HEIGHT) * a) / MIN_EARTH_RADIUS)**2 = 1\n",
    "(1/(MAX_EARTH_RADIUS-DEEPEST_DEPRESSION_ON_EARTH)**2 + a**2/(MIN_EARTH_RADIUS-DEEPEST_DEPRESSION_ON_EARTH)**2)*x**2 - \n",
    "    (2*a**2*(MAX_EARTH_RADIUS+HIMALAYAS_HEIGHT)/(MIN_EARTH_RADIUS-DEEPEST_DEPRESSION_ON_EARTH)**2)*x + \n",
    "    a**2*(MAX_EARTH_RADIUS+HIMALAYAS_HEIGHT)**2/(MIN_EARTH_RADIUS-DEEPEST_DEPRESSION_ON_EARTH)**2 - 1 = 0\n",
    "\n",
    "delta = 0\n",
    "delta = (2*a**2*(MAX_EARTH_RADIUS+HIMALAYAS_HEIGHT)/(MIN_EARTH_RADIUS-DEEPEST_DEPRESSION_ON_EARTH)**2)**2 -\n",
    "    4 * (1/(MAX_EARTH_RADIUS-DEEPEST_DEPRESSION_ON_EARTH)**2 + a**2/(MIN_EARTH_RADIUS-DEEPEST_DEPRESSION_ON_EARTH)**2) -\n",
    "    4 * (a**2*(MAX_EARTH_RADIUS+HIMALAYAS_HEIGHT)**2/(MIN_EARTH_RADIUS-DEEPEST_DEPRESSION_ON_EARTH)**2 - 1)\n",
    "\n",
    "a = math.sqrt((MIN_EARTH_RADIUS-DEEPEST_DEPRESSION_ON_EARTH)**2/((MAX_EARTH_RADIUS+HIMALAYAS_HEIGHT)**2 - \n",
    "    (MAX_EARTH_RADIUS-DEEPEST_DEPRESSION_ON_EARTH)**2))\n",
    "or (- math.sqrt((MIN_EARTH_RADIUS-DEEPEST_DEPRESSION_ON_EARTH)**2/((MAX_EARTH_RADIUS+HIMALAYAS_HEIGHT)**2 - \n",
    "    (MAX_EARTH_RADIUS-DEEPEST_DEPRESSION_ON_EARTH)**2)))\n",
    "```\n"
   ],
   "execution_count": null,
   "outputs": []
  },
  {
   "cell_type": "code",
   "execution_count": 4,
   "metadata": {},
   "outputs": [
    {
     "output_type": "stream",
     "name": "stdout",
     "text": "a: 18.480276527301484\nb: -118030717.17784242\ntangent equation: y = 18.480276527301484 * x + -118030717.17784242\n"
    }
   ],
   "source": [
    "# a could be also negative but there is no reason to have it negative there\n",
    "a = math.sqrt((MIN_EARTH_RADIUS-DEEPEST_DEPRESSION_ON_EARTH)**2/((MAX_EARTH_RADIUS+HIMALAYAS_HEIGHT)**2 - (MAX_EARTH_RADIUS-DEEPEST_DEPRESSION_ON_EARTH)**2))\n",
    "print(\"a: {}\".format(a))\n",
    "b = -1 * (MAX_EARTH_RADIUS + HIMALAYAS_HEIGHT) * a\n",
    "print(\"b: {}\".format(b))\n",
    "\n",
    "print(\"tangent equation: y = {} * x + {}\".format(a, b))"
   ]
  },
  {
   "cell_type": "markdown",
   "metadata": {},
   "source": [
    "Ok! Where is the point of contact?\n",
    "```\n",
    "(x / MAX_EARTH_RADIUS - DEEPEST_DEPRESSION_ON_EARTH)**2 + (y / MIN_EARTH_RADIUS - DEEPEST_DEPRESSION_ON_EARTH)**2 = 1\n",
    "y = a * x + b\n",
    "\n",
    "delta = (b**2 - (MIN_EARTH_RADIUS-DEEPEST_DEPRESSION_ON_EARTH)**2)/(MAX_EARTH_RADIUS-DEEPEST_DEPRESSION_ON_EARTH)**2 - a**2\n",
    "```"
   ],
   "execution_count": null,
   "outputs": []
  },
  {
   "cell_type": "code",
   "execution_count": 5,
   "metadata": {},
   "outputs": [
    {
     "output_type": "execute_result",
     "data": {
      "text/plain": "-5.684341886080802e-14"
     },
     "metadata": {},
     "execution_count": 5
    }
   ],
   "source": [
    "delta = (b**2 - (MIN_EARTH_RADIUS-DEEPEST_DEPRESSION_ON_EARTH)**2)/(MAX_EARTH_RADIUS-DEEPEST_DEPRESSION_ON_EARTH)**2 - a**2\n",
    "delta"
   ]
  },
  {
   "cell_type": "markdown",
   "metadata": {},
   "source": [
    "It should be zero! We operate on values so there will be inaccuracies. This is one of them. The delta is not zero but it's super small and we can assume that it's zero here"
   ],
   "execution_count": null,
   "outputs": []
  },
  {
   "cell_type": "code",
   "execution_count": 6,
   "metadata": {},
   "outputs": [
    {
     "output_type": "stream",
     "name": "stdout",
     "text": "x: 6368329.443056106\ny: -342228.05320973694\nA(6368329.443056106, -342228.05320973694)\n"
    }
   ],
   "source": [
    "# x = -b / 2*a\n",
    "x = -1 * (2 * a * b) / (2 * (((MIN_EARTH_RADIUS-DEEPEST_DEPRESSION_ON_EARTH)**2 + a**2*(MAX_EARTH_RADIUS-DEEPEST_DEPRESSION_ON_EARTH)**2) / (MAX_EARTH_RADIUS-DEEPEST_DEPRESSION_ON_EARTH)**2))\n",
    "print(\"x: {}\".format(x))\n",
    "\n",
    "y = a * x + b\n",
    "print(\"y: {}\".format(y))\n",
    "\n",
    "print(\"A({}, {})\".format(x, y))"
   ]
  },
  {
   "cell_type": "markdown",
   "metadata": {},
   "source": [
    "We have point P and point A, so we can find distance between them"
   ],
   "execution_count": null,
   "outputs": []
  },
  {
   "cell_type": "code",
   "execution_count": 7,
   "metadata": {},
   "outputs": [
    {
     "output_type": "stream",
     "name": "stdout",
     "text": "P(6386848, 0)\nA(6368329.443056106, -342228.05320973694)\ndistance between P and A: 342728.72268750804\n"
    }
   ],
   "source": [
    "print(\"P({}, {})\".format(MAX_EARTH_RADIUS+HIMALAYAS_HEIGHT, 0))\n",
    "print(\"A({}, {})\".format(x, y))\n",
    "\n",
    "distance = math.sqrt((MAX_EARTH_RADIUS + HIMALAYAS_HEIGHT - x)**2 + (0 - y)**2)\n",
    "print(\"distance between P and A: {}\".format(distance))"
   ]
  },
  {
   "cell_type": "markdown",
   "metadata": {},
   "source": [
    "Nice! 340 kilometers are much better than 630"
   ],
   "execution_count": null,
   "outputs": []
  }
 ],
 "metadata": {
  "kernelspec": {
   "display_name": ".env",
   "language": "python",
   "name": ".env"
  },
  "language_info": {
   "codemirror_mode": {
    "name": "ipython",
    "version": 3
   },
   "file_extension": ".py",
   "mimetype": "text/x-python",
   "name": "python",
   "nbconvert_exporter": "python",
   "pygments_lexer": "ipython3",
   "version": "3.7.5-final"
  }
 },
 "nbformat": 4,
 "nbformat_minor": 2
}